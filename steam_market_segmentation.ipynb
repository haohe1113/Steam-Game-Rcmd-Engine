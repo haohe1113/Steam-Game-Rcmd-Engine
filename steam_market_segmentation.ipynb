{
 "cells": [
  {
   "cell_type": "code",
   "execution_count": 793,
   "metadata": {},
   "outputs": [],
   "source": [
    "import pandas as pd\n",
    "import numpy as np\n",
    "from sklearn.preprocessing import FunctionTransformer\n",
    "from sklearn.preprocessing import MinMaxScaler\n",
    "import warnings\n",
    "warnings.filterwarnings('ignore')"
   ]
  },
  {
   "cell_type": "code",
   "execution_count": 794,
   "metadata": {},
   "outputs": [],
   "source": [
    "#clustering\n",
    "import numpy as np\n",
    "import matplotlib.pyplot as plt\n",
    "import seaborn as sns\n",
    "import sklearn.cluster as cluster\n",
    "from sklearn.cluster import KMeans\n",
    "import time\n",
    "from pandas.plotting import scatter_matrix\n",
    "%matplotlib inline\n",
    "sns.set_context('talk')\n",
    "sns.set_color_codes()\n",
    "plot_kwds = {'alpha' : 0.25, 's' : 80, 'linewidths':0}"
   ]
  },
  {
   "cell_type": "markdown",
   "metadata": {},
   "source": [
    "## Market Cluster Analysis"
   ]
  },
  {
   "cell_type": "markdown",
   "metadata": {},
   "source": [
    "### Decide the number of games included in analysis"
   ]
  },
  {
   "cell_type": "code",
   "execution_count": 795,
   "metadata": {},
   "outputs": [
    {
     "data": {
      "text/html": [
       "<div>\n",
       "<style scoped>\n",
       "    .dataframe tbody tr th:only-of-type {\n",
       "        vertical-align: middle;\n",
       "    }\n",
       "\n",
       "    .dataframe tbody tr th {\n",
       "        vertical-align: top;\n",
       "    }\n",
       "\n",
       "    .dataframe thead th {\n",
       "        text-align: right;\n",
       "    }\n",
       "</style>\n",
       "<table border=\"1\" class=\"dataframe\">\n",
       "  <thead>\n",
       "    <tr style=\"text-align: right;\">\n",
       "      <th></th>\n",
       "      <th>user_id</th>\n",
       "      <th>game_title</th>\n",
       "      <th>behavior_name</th>\n",
       "      <th>value</th>\n",
       "    </tr>\n",
       "  </thead>\n",
       "  <tbody>\n",
       "    <tr>\n",
       "      <th>0</th>\n",
       "      <td>151603712</td>\n",
       "      <td>The Elder Scrolls V Skyrim</td>\n",
       "      <td>purchase</td>\n",
       "      <td>1.0</td>\n",
       "    </tr>\n",
       "    <tr>\n",
       "      <th>1</th>\n",
       "      <td>151603712</td>\n",
       "      <td>The Elder Scrolls V Skyrim</td>\n",
       "      <td>play</td>\n",
       "      <td>273.0</td>\n",
       "    </tr>\n",
       "    <tr>\n",
       "      <th>2</th>\n",
       "      <td>151603712</td>\n",
       "      <td>Fallout 4</td>\n",
       "      <td>purchase</td>\n",
       "      <td>1.0</td>\n",
       "    </tr>\n",
       "    <tr>\n",
       "      <th>3</th>\n",
       "      <td>151603712</td>\n",
       "      <td>Fallout 4</td>\n",
       "      <td>play</td>\n",
       "      <td>87.0</td>\n",
       "    </tr>\n",
       "    <tr>\n",
       "      <th>4</th>\n",
       "      <td>151603712</td>\n",
       "      <td>Spore</td>\n",
       "      <td>purchase</td>\n",
       "      <td>1.0</td>\n",
       "    </tr>\n",
       "  </tbody>\n",
       "</table>\n",
       "</div>"
      ],
      "text/plain": [
       "     user_id                  game_title behavior_name  value\n",
       "0  151603712  The Elder Scrolls V Skyrim      purchase    1.0\n",
       "1  151603712  The Elder Scrolls V Skyrim          play  273.0\n",
       "2  151603712                   Fallout 4      purchase    1.0\n",
       "3  151603712                   Fallout 4          play   87.0\n",
       "4  151603712                       Spore      purchase    1.0"
      ]
     },
     "execution_count": 795,
     "metadata": {},
     "output_type": "execute_result"
    }
   ],
   "source": [
    "#data pre-processing\n",
    "colnames=['user_id','game_title', 'behavior_name','value','temp'] \n",
    "users = pd.read_csv(\"steam-200k.csv\",header=None,names=colnames,\n",
    "                    usecols=['user_id','game_title', 'behavior_name','value'])\n",
    "#remove duplicated purchase\n",
    "users.drop_duplicates(subset=['user_id','game_title','behavior_name'], keep='first', inplace=True)\n",
    "users.head()"
   ]
  },
  {
   "cell_type": "code",
   "execution_count": 796,
   "metadata": {},
   "outputs": [
    {
     "data": {
      "text/plain": [
       "12393"
      ]
     },
     "execution_count": 796,
     "metadata": {},
     "output_type": "execute_result"
    }
   ],
   "source": [
    "#number of users\n",
    "condi = users.behavior_name == 'purchase'\n",
    "users[condi].user_id.nunique()"
   ]
  },
  {
   "cell_type": "code",
   "execution_count": 797,
   "metadata": {},
   "outputs": [
    {
     "data": {
      "text/plain": [
       "5155"
      ]
     },
     "execution_count": 797,
     "metadata": {},
     "output_type": "execute_result"
    }
   ],
   "source": [
    "#number of games\n",
    "users.game_title.nunique()"
   ]
  },
  {
   "cell_type": "markdown",
   "metadata": {},
   "source": [
    "**We decided to include the top 289 games by purchase time in user clusering analysis**   \n",
    "\n",
    "Why 289?"
   ]
  },
  {
   "cell_type": "code",
   "execution_count": 798,
   "metadata": {},
   "outputs": [
    {
     "data": {
      "text/plain": [
       "game_title\n",
       "Dota 2                             4841\n",
       "Team Fortress 2                    2323\n",
       "Unturned                           1563\n",
       "Counter-Strike Global Offensive    1412\n",
       "Half-Life 2 Lost Coast              981\n",
       "Name: user_id, dtype: int64"
      ]
     },
     "execution_count": 798,
     "metadata": {},
     "output_type": "execute_result"
    }
   ],
   "source": [
    "# rank by number of purchase\n",
    "condi = users.behavior_name == 'purchase'\n",
    "top_games = users[condi].groupby(['game_title'])['user_id'].count().sort_values(ascending=False)\n",
    "top_games.head()\n",
    "#len(top_games)"
   ]
  },
  {
   "cell_type": "code",
   "execution_count": 799,
   "metadata": {},
   "outputs": [
    {
     "data": {
      "text/plain": [
       "<matplotlib.axes._subplots.AxesSubplot at 0x7fa75e5a6b50>"
      ]
     },
     "execution_count": 799,
     "metadata": {},
     "output_type": "execute_result"
    },
    {
     "data": {
      "image/png": "[encoded data removed]",
      "text/plain": [
       "<Figure size 432x288 with 1 Axes>"
      ]
     },
     "metadata": {
      "needs_background": "light"
     },
     "output_type": "display_data"
    }
   ],
   "source": [
    "#overview\n",
    "top_games.plot()"
   ]
  },
  {
   "cell_type": "markdown",
   "metadata": {},
   "source": [
    "Number of purchase drops dramatically"
   ]
  },
  {
   "cell_type": "code",
   "execution_count": 800,
   "metadata": {},
   "outputs": [
    {
     "data": {
      "text/plain": [
       "289"
      ]
     },
     "execution_count": 800,
     "metadata": {},
     "output_type": "execute_result"
    }
   ],
   "source": [
    "#Filter out games less than 90 purchases (1% of total user population)\n",
    "len(top_games.where(top_games >= 90).dropna())"
   ]
  },
  {
   "cell_type": "markdown",
   "metadata": {},
   "source": [
    "**back to work**"
   ]
  },
  {
   "cell_type": "code",
   "execution_count": 801,
   "metadata": {},
   "outputs": [
    {
     "data": {
      "text/html": [
       "<div>\n",
       "<style scoped>\n",
       "    .dataframe tbody tr th:only-of-type {\n",
       "        vertical-align: middle;\n",
       "    }\n",
       "\n",
       "    .dataframe tbody tr th {\n",
       "        vertical-align: top;\n",
       "    }\n",
       "\n",
       "    .dataframe thead th {\n",
       "        text-align: right;\n",
       "    }\n",
       "</style>\n",
       "<table border=\"1\" class=\"dataframe\">\n",
       "  <thead>\n",
       "    <tr style=\"text-align: right;\">\n",
       "      <th></th>\n",
       "      <th>user_id</th>\n",
       "      <th>game_title</th>\n",
       "      <th>behavior_name</th>\n",
       "      <th>value</th>\n",
       "    </tr>\n",
       "  </thead>\n",
       "  <tbody>\n",
       "    <tr>\n",
       "      <th>0</th>\n",
       "      <td>151603712</td>\n",
       "      <td>The Elder Scrolls V Skyrim</td>\n",
       "      <td>purchase</td>\n",
       "      <td>1.0</td>\n",
       "    </tr>\n",
       "    <tr>\n",
       "      <th>1</th>\n",
       "      <td>151603712</td>\n",
       "      <td>The Elder Scrolls V Skyrim</td>\n",
       "      <td>play</td>\n",
       "      <td>273.0</td>\n",
       "    </tr>\n",
       "    <tr>\n",
       "      <th>2</th>\n",
       "      <td>151603712</td>\n",
       "      <td>Fallout 4</td>\n",
       "      <td>purchase</td>\n",
       "      <td>1.0</td>\n",
       "    </tr>\n",
       "    <tr>\n",
       "      <th>3</th>\n",
       "      <td>151603712</td>\n",
       "      <td>Fallout 4</td>\n",
       "      <td>play</td>\n",
       "      <td>87.0</td>\n",
       "    </tr>\n",
       "    <tr>\n",
       "      <th>6</th>\n",
       "      <td>151603712</td>\n",
       "      <td>Fallout New Vegas</td>\n",
       "      <td>purchase</td>\n",
       "      <td>1.0</td>\n",
       "    </tr>\n",
       "    <tr>\n",
       "      <th>...</th>\n",
       "      <td>...</td>\n",
       "      <td>...</td>\n",
       "      <td>...</td>\n",
       "      <td>...</td>\n",
       "    </tr>\n",
       "    <tr>\n",
       "      <th>199991</th>\n",
       "      <td>128470551</td>\n",
       "      <td>Fallen Earth</td>\n",
       "      <td>play</td>\n",
       "      <td>2.4</td>\n",
       "    </tr>\n",
       "    <tr>\n",
       "      <th>199992</th>\n",
       "      <td>128470551</td>\n",
       "      <td>Magic Duels</td>\n",
       "      <td>purchase</td>\n",
       "      <td>1.0</td>\n",
       "    </tr>\n",
       "    <tr>\n",
       "      <th>199993</th>\n",
       "      <td>128470551</td>\n",
       "      <td>Magic Duels</td>\n",
       "      <td>play</td>\n",
       "      <td>2.2</td>\n",
       "    </tr>\n",
       "    <tr>\n",
       "      <th>199996</th>\n",
       "      <td>128470551</td>\n",
       "      <td>Grand Theft Auto Vice City</td>\n",
       "      <td>purchase</td>\n",
       "      <td>1.0</td>\n",
       "    </tr>\n",
       "    <tr>\n",
       "      <th>199997</th>\n",
       "      <td>128470551</td>\n",
       "      <td>Grand Theft Auto Vice City</td>\n",
       "      <td>play</td>\n",
       "      <td>1.5</td>\n",
       "    </tr>\n",
       "  </tbody>\n",
       "</table>\n",
       "<p>116045 rows × 4 columns</p>\n",
       "</div>"
      ],
      "text/plain": [
       "          user_id                  game_title behavior_name  value\n",
       "0       151603712  The Elder Scrolls V Skyrim      purchase    1.0\n",
       "1       151603712  The Elder Scrolls V Skyrim          play  273.0\n",
       "2       151603712                   Fallout 4      purchase    1.0\n",
       "3       151603712                   Fallout 4          play   87.0\n",
       "6       151603712           Fallout New Vegas      purchase    1.0\n",
       "...           ...                         ...           ...    ...\n",
       "199991  128470551                Fallen Earth          play    2.4\n",
       "199992  128470551                 Magic Duels      purchase    1.0\n",
       "199993  128470551                 Magic Duels          play    2.2\n",
       "199996  128470551  Grand Theft Auto Vice City      purchase    1.0\n",
       "199997  128470551  Grand Theft Auto Vice City          play    1.5\n",
       "\n",
       "[116045 rows x 4 columns]"
      ]
     },
     "execution_count": 801,
     "metadata": {},
     "output_type": "execute_result"
    }
   ],
   "source": [
    "#filter data set by top 289 games only\n",
    "top_games_list = list(top_games.index[:289])\n",
    "users = users[users.game_title.isin(top_games_list)]\n",
    "users.user_id=users.user_id.astype('str')\n",
    "users"
   ]
  },
  {
   "cell_type": "code",
   "execution_count": 802,
   "metadata": {},
   "outputs": [],
   "source": [
    "#output game list to manually assign genre to each game\n",
    "#pd.Series(top_games_list).to_csv('top_games_list.csv')"
   ]
  },
  {
   "cell_type": "markdown",
   "metadata": {},
   "source": [
    "### remove outliers "
   ]
  },
  {
   "cell_type": "code",
   "execution_count": 803,
   "metadata": {},
   "outputs": [],
   "source": [
    "from pandas.api.types import is_numeric_dtype\n",
    "def remove_outlier(df):\n",
    "    low = .05\n",
    "    high = .95\n",
    "    quant_df = df.quantile([low, high])\n",
    "    for name in list(df.columns):\n",
    "        if is_numeric_dtype(df[name]):\n",
    "            df = df[ (df[name] < quant_df.loc[high, name])]\n",
    "    return df"
   ]
  },
  {
   "cell_type": "code",
   "execution_count": 804,
   "metadata": {},
   "outputs": [
    {
     "data": {
      "text/plain": [
       "110223"
      ]
     },
     "execution_count": 804,
     "metadata": {},
     "output_type": "execute_result"
    }
   ],
   "source": [
    "users = remove_outlier(users)\n",
    "len(users)"
   ]
  },
  {
   "cell_type": "markdown",
   "metadata": {},
   "source": [
    "### Change the dataset to user vs hours played pivot table"
   ]
  },
  {
   "cell_type": "code",
   "execution_count": 805,
   "metadata": {},
   "outputs": [],
   "source": [
    "user_play = users[users['behavior_name'] == 'play'].copy()\n",
    "userbyitem = pd.DataFrame(index=user_play['user_id'].unique(), columns=user_play['game_title'].unique())\n",
    "\n",
    "for i in range(len(user_play)):\n",
    "    user_id = user_play.iloc[i]['user_id']\n",
    "    game_title = user_play.iloc[i]['game_title']\n",
    "    userbyitem.loc[user_id,game_title] = user_play.iloc[i]['value']\n",
    "    \n",
    "#take out users that haven't played at least 3 games\n",
    "userbyitem = userbyitem[(~userbyitem.isnull()).sum(axis=1) >= 3]\n",
    "\n",
    "#NA -> 0\n",
    "userbyitem.fillna(0, inplace = True)\n",
    "\n",
    "#total hrs played - added as a clusering factor to distinguish hardcore players/light players\n",
    "userbyitem['Total_Hrs_Played'] = userbyitem.sum(axis=1)"
   ]
  },
  {
   "cell_type": "code",
   "execution_count": 817,
   "metadata": {},
   "outputs": [
    {
     "data": {
      "text/plain": [
       "2663"
      ]
     },
     "execution_count": 817,
     "metadata": {},
     "output_type": "execute_result"
    }
   ],
   "source": [
    "#number of users finally\n",
    "len(userbyitem)"
   ]
  },
  {
   "cell_type": "code",
   "execution_count": 807,
   "metadata": {},
   "outputs": [
    {
     "data": {
      "text/plain": [
       "count    2663.000000\n",
       "mean      133.244686\n",
       "std       167.079528\n",
       "min         0.400000\n",
       "25%        30.750000\n",
       "50%        76.600000\n",
       "75%       163.650000\n",
       "max      1527.000000\n",
       "Name: Total_Hrs_Played, dtype: float64"
      ]
     },
     "execution_count": 807,
     "metadata": {},
     "output_type": "execute_result"
    }
   ],
   "source": [
    "userbyitem.Total_Hrs_Played.describe()"
   ]
  },
  {
   "cell_type": "markdown",
   "metadata": {},
   "source": [
    "### Scale values to `range(0,100) `"
   ]
  },
  {
   "cell_type": "code",
   "execution_count": 808,
   "metadata": {},
   "outputs": [],
   "source": [
    "scaler_mm = MinMaxScaler(feature_range = (0, 100))\n",
    "userbyitem_mm = scaler_mm.fit_transform(userbyitem)\n",
    "userbyitem_mm = pd.DataFrame(userbyitem_mm,columns = userbyitem.columns)"
   ]
  },
  {
   "cell_type": "markdown",
   "metadata": {},
   "source": [
    "### Cluster"
   ]
  },
  {
   "cell_type": "markdown",
   "metadata": {},
   "source": [
    "**determine optimal k** \n",
    "\n",
    "Use elbow plot and inertia as criterion  \n",
    "Inertia: It is the sum of squared distances of samples to their closest cluster center   \n",
    "[Elbow Method for optimal value of k in KMeans](https://www.geeksforgeeks.org/elbow-method-for-optimal-value-of-k-in-kmeans/)"
   ]
  },
  {
   "cell_type": "code",
   "execution_count": 809,
   "metadata": {},
   "outputs": [],
   "source": [
    "def get_inertias(max_k, dataset):\n",
    "    '''\n",
    "    input max k value, dataset to do clustering on\n",
    "    output inertias on different k\n",
    "    '''\n",
    "    inertia_dict = {}\n",
    "    for k in range(1, max_k+1):\n",
    "        model = KMeans(n_clusters=k).fit(dataset)\n",
    "        inertia_dict[k] = model.inertia_    \n",
    "    inertia_tuples = [(k, v) for k, v in inertia_dict.items()] \n",
    "\n",
    "    return inertia_tuples"
   ]
  },
  {
   "cell_type": "code",
   "execution_count": 810,
   "metadata": {},
   "outputs": [],
   "source": [
    "def elbow_plot(inertias):\n",
    "    plt.figure(figsize=(12, 8))\n",
    "    plt.plot(*zip(*inertias))\n",
    "    plt.title('Elbow Plot')\n",
    "    plt.xlabel('k')\n",
    "    plt.ylabel('Inertia')\n",
    "    plt.xticks(range(1, len(inertias)+1))\n",
    "    #plt.axvline(x=10, color = 'red')\n",
    "    plt.grid(True)"
   ]
  },
  {
   "cell_type": "code",
   "execution_count": 811,
   "metadata": {},
   "outputs": [
    {
     "data": {
      "text/plain": [
       "<matplotlib.lines.Line2D at 0x7fa76d206050>"
      ]
     },
     "execution_count": 811,
     "metadata": {},
     "output_type": "execute_result"
    },
    {
     "data": {
      "image/png": "[encoded data removed]",
      "text/plain": [
       "<Figure size 864x576 with 1 Axes>"
      ]
     },
     "metadata": {
      "needs_background": "light"
     },
     "output_type": "display_data"
    }
   ],
   "source": [
    "elbow_plot(get_inertias(20, userbyitem_mm))\n",
    "plt.axvline(x=10, color = 'red')"
   ]
  },
  {
   "cell_type": "markdown",
   "metadata": {},
   "source": [
    "**optimal k = 10**"
   ]
  },
  {
   "cell_type": "code",
   "execution_count": 827,
   "metadata": {},
   "outputs": [
    {
     "data": {
      "text/html": [
       "<div>\n",
       "<style scoped>\n",
       "    .dataframe tbody tr th:only-of-type {\n",
       "        vertical-align: middle;\n",
       "    }\n",
       "\n",
       "    .dataframe tbody tr th {\n",
       "        vertical-align: top;\n",
       "    }\n",
       "\n",
       "    .dataframe thead th {\n",
       "        text-align: right;\n",
       "    }\n",
       "</style>\n",
       "<table border=\"1\" class=\"dataframe\">\n",
       "  <thead>\n",
       "    <tr style=\"text-align: right;\">\n",
       "      <th></th>\n",
       "      <th>Fallout New Vegas</th>\n",
       "      <th>Left 4 Dead 2</th>\n",
       "      <th>Path of Exile</th>\n",
       "      <th>Left 4 Dead</th>\n",
       "      <th>Team Fortress 2</th>\n",
       "      <th>Tomb Raider</th>\n",
       "      <th>Dead Island Epidemic</th>\n",
       "      <th>BioShock Infinite</th>\n",
       "      <th>Fallout 3 - Game of the Year Edition</th>\n",
       "      <th>Grand Theft Auto IV</th>\n",
       "      <th>...</th>\n",
       "      <th>Tropico 3 - Steam Special Edition</th>\n",
       "      <th>Magic Duels</th>\n",
       "      <th>Ragnarok Online 2</th>\n",
       "      <th>Fallen Earth</th>\n",
       "      <th>Starbound - Unstable</th>\n",
       "      <th>Dizzel</th>\n",
       "      <th>Patch testing for Chivalry</th>\n",
       "      <th>H1Z1 Test Server</th>\n",
       "      <th>Total_Hrs_Played</th>\n",
       "      <th>cluster</th>\n",
       "    </tr>\n",
       "  </thead>\n",
       "  <tbody>\n",
       "    <tr>\n",
       "      <th>0</th>\n",
       "      <td>16.351351</td>\n",
       "      <td>11.710526</td>\n",
       "      <td>10.8</td>\n",
       "      <td>4.647887</td>\n",
       "      <td>3.733333</td>\n",
       "      <td>4.032258</td>\n",
       "      <td>3.181818</td>\n",
       "      <td>1.940299</td>\n",
       "      <td>1.142857</td>\n",
       "      <td>0.8</td>\n",
       "      <td>...</td>\n",
       "      <td>0.0</td>\n",
       "      <td>0.0</td>\n",
       "      <td>0.0</td>\n",
       "      <td>0.0</td>\n",
       "      <td>0.0</td>\n",
       "      <td>0.0</td>\n",
       "      <td>0.0</td>\n",
       "      <td>0.0</td>\n",
       "      <td>2.875671</td>\n",
       "      <td>3</td>\n",
       "    </tr>\n",
       "    <tr>\n",
       "      <th>1</th>\n",
       "      <td>0.000000</td>\n",
       "      <td>0.000000</td>\n",
       "      <td>0.0</td>\n",
       "      <td>0.000000</td>\n",
       "      <td>0.133333</td>\n",
       "      <td>0.000000</td>\n",
       "      <td>0.000000</td>\n",
       "      <td>0.000000</td>\n",
       "      <td>0.000000</td>\n",
       "      <td>0.0</td>\n",
       "      <td>...</td>\n",
       "      <td>0.0</td>\n",
       "      <td>0.0</td>\n",
       "      <td>0.0</td>\n",
       "      <td>0.0</td>\n",
       "      <td>0.0</td>\n",
       "      <td>0.0</td>\n",
       "      <td>0.0</td>\n",
       "      <td>0.0</td>\n",
       "      <td>8.437050</td>\n",
       "      <td>3</td>\n",
       "    </tr>\n",
       "    <tr>\n",
       "      <th>2</th>\n",
       "      <td>10.135135</td>\n",
       "      <td>93.421053</td>\n",
       "      <td>0.0</td>\n",
       "      <td>2.394366</td>\n",
       "      <td>0.000000</td>\n",
       "      <td>0.000000</td>\n",
       "      <td>0.000000</td>\n",
       "      <td>0.000000</td>\n",
       "      <td>0.000000</td>\n",
       "      <td>2.0</td>\n",
       "      <td>...</td>\n",
       "      <td>0.0</td>\n",
       "      <td>0.0</td>\n",
       "      <td>0.0</td>\n",
       "      <td>0.0</td>\n",
       "      <td>0.0</td>\n",
       "      <td>0.0</td>\n",
       "      <td>0.0</td>\n",
       "      <td>0.0</td>\n",
       "      <td>38.372855</td>\n",
       "      <td>1</td>\n",
       "    </tr>\n",
       "    <tr>\n",
       "      <th>3</th>\n",
       "      <td>0.000000</td>\n",
       "      <td>0.000000</td>\n",
       "      <td>0.0</td>\n",
       "      <td>0.000000</td>\n",
       "      <td>0.000000</td>\n",
       "      <td>0.000000</td>\n",
       "      <td>0.000000</td>\n",
       "      <td>0.000000</td>\n",
       "      <td>0.000000</td>\n",
       "      <td>0.0</td>\n",
       "      <td>...</td>\n",
       "      <td>0.0</td>\n",
       "      <td>0.0</td>\n",
       "      <td>0.0</td>\n",
       "      <td>0.0</td>\n",
       "      <td>0.0</td>\n",
       "      <td>0.0</td>\n",
       "      <td>0.0</td>\n",
       "      <td>0.0</td>\n",
       "      <td>5.888903</td>\n",
       "      <td>0</td>\n",
       "    </tr>\n",
       "    <tr>\n",
       "      <th>4</th>\n",
       "      <td>0.000000</td>\n",
       "      <td>0.000000</td>\n",
       "      <td>0.0</td>\n",
       "      <td>0.000000</td>\n",
       "      <td>13.466667</td>\n",
       "      <td>0.000000</td>\n",
       "      <td>0.000000</td>\n",
       "      <td>0.000000</td>\n",
       "      <td>0.000000</td>\n",
       "      <td>0.0</td>\n",
       "      <td>...</td>\n",
       "      <td>0.0</td>\n",
       "      <td>0.0</td>\n",
       "      <td>0.0</td>\n",
       "      <td>0.0</td>\n",
       "      <td>0.0</td>\n",
       "      <td>0.0</td>\n",
       "      <td>0.0</td>\n",
       "      <td>0.0</td>\n",
       "      <td>2.901873</td>\n",
       "      <td>3</td>\n",
       "    </tr>\n",
       "  </tbody>\n",
       "</table>\n",
       "<p>5 rows × 273 columns</p>\n",
       "</div>"
      ],
      "text/plain": [
       "   Fallout New Vegas  Left 4 Dead 2  Path of Exile  Left 4 Dead  \\\n",
       "0          16.351351      11.710526           10.8     4.647887   \n",
       "1           0.000000       0.000000            0.0     0.000000   \n",
       "2          10.135135      93.421053            0.0     2.394366   \n",
       "3           0.000000       0.000000            0.0     0.000000   \n",
       "4           0.000000       0.000000            0.0     0.000000   \n",
       "\n",
       "   Team Fortress 2  Tomb Raider  Dead Island Epidemic  BioShock Infinite  \\\n",
       "0         3.733333     4.032258              3.181818           1.940299   \n",
       "1         0.133333     0.000000              0.000000           0.000000   \n",
       "2         0.000000     0.000000              0.000000           0.000000   \n",
       "3         0.000000     0.000000              0.000000           0.000000   \n",
       "4        13.466667     0.000000              0.000000           0.000000   \n",
       "\n",
       "   Fallout 3 - Game of the Year Edition  Grand Theft Auto IV  ...  \\\n",
       "0                              1.142857                  0.8  ...   \n",
       "1                              0.000000                  0.0  ...   \n",
       "2                              0.000000                  2.0  ...   \n",
       "3                              0.000000                  0.0  ...   \n",
       "4                              0.000000                  0.0  ...   \n",
       "\n",
       "   Tropico 3 - Steam Special Edition  Magic Duels  Ragnarok Online 2  \\\n",
       "0                                0.0          0.0                0.0   \n",
       "1                                0.0          0.0                0.0   \n",
       "2                                0.0          0.0                0.0   \n",
       "3                                0.0          0.0                0.0   \n",
       "4                                0.0          0.0                0.0   \n",
       "\n",
       "   Fallen Earth  Starbound - Unstable  Dizzel  Patch testing for Chivalry  \\\n",
       "0           0.0                   0.0     0.0                         0.0   \n",
       "1           0.0                   0.0     0.0                         0.0   \n",
       "2           0.0                   0.0     0.0                         0.0   \n",
       "3           0.0                   0.0     0.0                         0.0   \n",
       "4           0.0                   0.0     0.0                         0.0   \n",
       "\n",
       "   H1Z1 Test Server  Total_Hrs_Played  cluster  \n",
       "0               0.0          2.875671        3  \n",
       "1               0.0          8.437050        3  \n",
       "2               0.0         38.372855        1  \n",
       "3               0.0          5.888903        0  \n",
       "4               0.0          2.901873        3  \n",
       "\n",
       "[5 rows x 273 columns]"
      ]
     },
     "execution_count": 827,
     "metadata": {},
     "output_type": "execute_result"
    }
   ],
   "source": [
    "#reset userbyitem_mm\n",
    "scaler_mm = MinMaxScaler(feature_range=(0,100))\n",
    "userbyitem_mm = scaler_mm.fit_transform(userbyitem)\n",
    "userbyitem_mm = pd.DataFrame(userbyitem_mm,columns = userbyitem.columns)\n",
    "\n",
    "k = 5\n",
    "model = KMeans(n_clusters=k)\n",
    "model.fit(userbyitem_mm)\n",
    "userbyitem_mm['cluster'] = pd.Series(model.fit_predict(userbyitem_mm))\n",
    "userbyitem_mm.head()"
   ]
  },
  {
   "cell_type": "markdown",
   "metadata": {},
   "source": [
    "**sizes of clusters**"
   ]
  },
  {
   "cell_type": "code",
   "execution_count": 828,
   "metadata": {},
   "outputs": [
    {
     "data": {
      "text/plain": [
       "cluster\n",
       "0     109\n",
       "1     196\n",
       "2     149\n",
       "3    2037\n",
       "4     172\n",
       "dtype: int64"
      ]
     },
     "execution_count": 828,
     "metadata": {},
     "output_type": "execute_result"
    }
   ],
   "source": [
    "userbyitem_mm.groupby('cluster').size()"
   ]
  },
  {
   "cell_type": "markdown",
   "metadata": {},
   "source": [
    "### Cluster details (game level)\n",
    "1. The top 3 mostly played games\n",
    "2. User stickiness on the top 3 games (mean hours played scaled in `range(0,100)`"
   ]
  },
  {
   "cell_type": "code",
   "execution_count": 829,
   "metadata": {},
   "outputs": [],
   "source": [
    "def explain_cluster(data):\n",
    "    '''\n",
    "    input clustering data\n",
    "    output the most 3 preferred genres in each cluster and statistics\n",
    "    '''\n",
    "    stats = data.groupby('cluster').mean().round(2)\n",
    "    \n",
    "    #rank every row\n",
    "    stats1 = stats.drop(columns = 'Total_Hrs_Played')\n",
    "    arr = np.argsort(-stats1.values, axis=1)\n",
    "    row_rank = pd.DataFrame(stats1.columns[arr], index=stats1.index)\n",
    "    row_rank = row_rank[[0, 1, 2]].rename(columns = {0:'Dominant Genre/Game', \n",
    "                                                        1:'2nd Preferred', \n",
    "                                                        2:'Might Also Play'})\n",
    "    row_rank = row_rank.join(stats['Total_Hrs_Played'])\n",
    "    row_rank = row_rank.rename(columns = {'Total_Hrs_Played':'User Stickness'})\n",
    "    stats = stats.rename(columns = {'Total_Hrs_Played':'User Stickness'})\n",
    "\n",
    "    #add cluster size\n",
    "    sizes = data.groupby('cluster').size()\n",
    "    sizes.name = 'Cluster Size'\n",
    "    row_rank = row_rank.join(sizes)\n",
    "\n",
    "    return stats,row_rank"
   ]
  },
  {
   "cell_type": "code",
   "execution_count": 830,
   "metadata": {},
   "outputs": [
    {
     "data": {
      "text/html": [
       "<div>\n",
       "<style scoped>\n",
       "    .dataframe tbody tr th:only-of-type {\n",
       "        vertical-align: middle;\n",
       "    }\n",
       "\n",
       "    .dataframe tbody tr th {\n",
       "        vertical-align: top;\n",
       "    }\n",
       "\n",
       "    .dataframe thead th {\n",
       "        text-align: right;\n",
       "    }\n",
       "</style>\n",
       "<table border=\"1\" class=\"dataframe\">\n",
       "  <thead>\n",
       "    <tr style=\"text-align: right;\">\n",
       "      <th></th>\n",
       "      <th>Dominant Genre/Game</th>\n",
       "      <th>2nd Preferred</th>\n",
       "      <th>Might Also Play</th>\n",
       "      <th>User Stickness</th>\n",
       "      <th>Cluster Size</th>\n",
       "    </tr>\n",
       "    <tr>\n",
       "      <th>cluster</th>\n",
       "      <th></th>\n",
       "      <th></th>\n",
       "      <th></th>\n",
       "      <th></th>\n",
       "      <th></th>\n",
       "    </tr>\n",
       "  </thead>\n",
       "  <tbody>\n",
       "    <tr>\n",
       "      <th>0</th>\n",
       "      <td>Call of Duty Modern Warfare 2</td>\n",
       "      <td>Call of Duty Modern Warfare 3 - Multiplayer</td>\n",
       "      <td>Call of Duty Modern Warfare 3</td>\n",
       "      <td>16.78</td>\n",
       "      <td>109</td>\n",
       "    </tr>\n",
       "    <tr>\n",
       "      <th>1</th>\n",
       "      <td>The Elder Scrolls V Skyrim</td>\n",
       "      <td>Borderlands 2</td>\n",
       "      <td>Left 4 Dead 2</td>\n",
       "      <td>35.96</td>\n",
       "      <td>196</td>\n",
       "    </tr>\n",
       "    <tr>\n",
       "      <th>2</th>\n",
       "      <td>Counter-Strike Global Offensive</td>\n",
       "      <td>Garry's Mod</td>\n",
       "      <td>Unturned</td>\n",
       "      <td>12.14</td>\n",
       "      <td>149</td>\n",
       "    </tr>\n",
       "    <tr>\n",
       "      <th>3</th>\n",
       "      <td>Garry's Mod</td>\n",
       "      <td>Unturned</td>\n",
       "      <td>Left 4 Dead 2</td>\n",
       "      <td>4.99</td>\n",
       "      <td>2037</td>\n",
       "    </tr>\n",
       "    <tr>\n",
       "      <th>4</th>\n",
       "      <td>Team Fortress 2</td>\n",
       "      <td>Unturned</td>\n",
       "      <td>Garry's Mod</td>\n",
       "      <td>13.48</td>\n",
       "      <td>172</td>\n",
       "    </tr>\n",
       "  </tbody>\n",
       "</table>\n",
       "</div>"
      ],
      "text/plain": [
       "                     Dominant Genre/Game  \\\n",
       "cluster                                    \n",
       "0          Call of Duty Modern Warfare 2   \n",
       "1             The Elder Scrolls V Skyrim   \n",
       "2        Counter-Strike Global Offensive   \n",
       "3                            Garry's Mod   \n",
       "4                        Team Fortress 2   \n",
       "\n",
       "                                       2nd Preferred  \\\n",
       "cluster                                                \n",
       "0        Call of Duty Modern Warfare 3 - Multiplayer   \n",
       "1                                      Borderlands 2   \n",
       "2                                        Garry's Mod   \n",
       "3                                           Unturned   \n",
       "4                                           Unturned   \n",
       "\n",
       "                       Might Also Play  User Stickness  Cluster Size  \n",
       "cluster                                                               \n",
       "0        Call of Duty Modern Warfare 3           16.78           109  \n",
       "1                        Left 4 Dead 2           35.96           196  \n",
       "2                             Unturned           12.14           149  \n",
       "3                        Left 4 Dead 2            4.99          2037  \n",
       "4                          Garry's Mod           13.48           172  "
      ]
     },
     "execution_count": 830,
     "metadata": {},
     "output_type": "execute_result"
    }
   ],
   "source": [
    "ubi_stats,ubi_rank = explain_cluster(userbyitem_mm)\n",
    "ubi_rank"
   ]
  },
  {
   "cell_type": "code",
   "execution_count": 831,
   "metadata": {},
   "outputs": [
    {
     "data": {
      "text/html": [
       "<div>\n",
       "<style scoped>\n",
       "    .dataframe tbody tr th:only-of-type {\n",
       "        vertical-align: middle;\n",
       "    }\n",
       "\n",
       "    .dataframe tbody tr th {\n",
       "        vertical-align: top;\n",
       "    }\n",
       "\n",
       "    .dataframe thead th {\n",
       "        text-align: right;\n",
       "    }\n",
       "</style>\n",
       "<table border=\"1\" class=\"dataframe\">\n",
       "  <thead>\n",
       "    <tr style=\"text-align: right;\">\n",
       "      <th></th>\n",
       "      <th>Fallout New Vegas</th>\n",
       "      <th>Left 4 Dead 2</th>\n",
       "      <th>Path of Exile</th>\n",
       "      <th>Left 4 Dead</th>\n",
       "      <th>Team Fortress 2</th>\n",
       "      <th>Tomb Raider</th>\n",
       "      <th>Dead Island Epidemic</th>\n",
       "      <th>BioShock Infinite</th>\n",
       "      <th>Fallout 3 - Game of the Year Edition</th>\n",
       "      <th>Grand Theft Auto IV</th>\n",
       "      <th>...</th>\n",
       "      <th>Aura Kingdom</th>\n",
       "      <th>Tropico 3 - Steam Special Edition</th>\n",
       "      <th>Magic Duels</th>\n",
       "      <th>Ragnarok Online 2</th>\n",
       "      <th>Fallen Earth</th>\n",
       "      <th>Starbound - Unstable</th>\n",
       "      <th>Dizzel</th>\n",
       "      <th>Patch testing for Chivalry</th>\n",
       "      <th>H1Z1 Test Server</th>\n",
       "      <th>User Stickness</th>\n",
       "    </tr>\n",
       "    <tr>\n",
       "      <th>cluster</th>\n",
       "      <th></th>\n",
       "      <th></th>\n",
       "      <th></th>\n",
       "      <th></th>\n",
       "      <th></th>\n",
       "      <th></th>\n",
       "      <th></th>\n",
       "      <th></th>\n",
       "      <th></th>\n",
       "      <th></th>\n",
       "      <th></th>\n",
       "      <th></th>\n",
       "      <th></th>\n",
       "      <th></th>\n",
       "      <th></th>\n",
       "      <th></th>\n",
       "      <th></th>\n",
       "      <th></th>\n",
       "      <th></th>\n",
       "      <th></th>\n",
       "      <th></th>\n",
       "    </tr>\n",
       "  </thead>\n",
       "  <tbody>\n",
       "    <tr>\n",
       "      <th>0</th>\n",
       "      <td>3.03</td>\n",
       "      <td>12.85</td>\n",
       "      <td>0.54</td>\n",
       "      <td>3.09</td>\n",
       "      <td>2.66</td>\n",
       "      <td>2.57</td>\n",
       "      <td>0.33</td>\n",
       "      <td>1.56</td>\n",
       "      <td>0.00</td>\n",
       "      <td>5.59</td>\n",
       "      <td>...</td>\n",
       "      <td>0.00</td>\n",
       "      <td>0.55</td>\n",
       "      <td>0.28</td>\n",
       "      <td>0.00</td>\n",
       "      <td>0.02</td>\n",
       "      <td>0.00</td>\n",
       "      <td>0.00</td>\n",
       "      <td>0.08</td>\n",
       "      <td>0.00</td>\n",
       "      <td>16.78</td>\n",
       "    </tr>\n",
       "    <tr>\n",
       "      <th>1</th>\n",
       "      <td>12.28</td>\n",
       "      <td>16.67</td>\n",
       "      <td>2.83</td>\n",
       "      <td>4.96</td>\n",
       "      <td>6.72</td>\n",
       "      <td>7.80</td>\n",
       "      <td>1.04</td>\n",
       "      <td>10.83</td>\n",
       "      <td>3.86</td>\n",
       "      <td>8.86</td>\n",
       "      <td>...</td>\n",
       "      <td>0.59</td>\n",
       "      <td>1.26</td>\n",
       "      <td>0.49</td>\n",
       "      <td>0.19</td>\n",
       "      <td>0.03</td>\n",
       "      <td>0.14</td>\n",
       "      <td>0.30</td>\n",
       "      <td>0.78</td>\n",
       "      <td>0.07</td>\n",
       "      <td>35.96</td>\n",
       "    </tr>\n",
       "    <tr>\n",
       "      <th>2</th>\n",
       "      <td>0.86</td>\n",
       "      <td>5.11</td>\n",
       "      <td>1.47</td>\n",
       "      <td>1.84</td>\n",
       "      <td>4.48</td>\n",
       "      <td>1.22</td>\n",
       "      <td>0.81</td>\n",
       "      <td>0.60</td>\n",
       "      <td>0.34</td>\n",
       "      <td>2.08</td>\n",
       "      <td>...</td>\n",
       "      <td>0.36</td>\n",
       "      <td>0.01</td>\n",
       "      <td>0.27</td>\n",
       "      <td>0.01</td>\n",
       "      <td>0.01</td>\n",
       "      <td>0.27</td>\n",
       "      <td>0.01</td>\n",
       "      <td>0.30</td>\n",
       "      <td>0.03</td>\n",
       "      <td>12.14</td>\n",
       "    </tr>\n",
       "    <tr>\n",
       "      <th>3</th>\n",
       "      <td>0.95</td>\n",
       "      <td>2.86</td>\n",
       "      <td>0.69</td>\n",
       "      <td>0.50</td>\n",
       "      <td>2.44</td>\n",
       "      <td>0.91</td>\n",
       "      <td>0.26</td>\n",
       "      <td>0.70</td>\n",
       "      <td>0.28</td>\n",
       "      <td>0.59</td>\n",
       "      <td>...</td>\n",
       "      <td>0.16</td>\n",
       "      <td>0.06</td>\n",
       "      <td>0.22</td>\n",
       "      <td>0.09</td>\n",
       "      <td>0.11</td>\n",
       "      <td>0.03</td>\n",
       "      <td>0.11</td>\n",
       "      <td>0.01</td>\n",
       "      <td>0.07</td>\n",
       "      <td>4.99</td>\n",
       "    </tr>\n",
       "    <tr>\n",
       "      <th>4</th>\n",
       "      <td>2.09</td>\n",
       "      <td>5.81</td>\n",
       "      <td>0.59</td>\n",
       "      <td>0.33</td>\n",
       "      <td>57.91</td>\n",
       "      <td>0.53</td>\n",
       "      <td>0.31</td>\n",
       "      <td>1.57</td>\n",
       "      <td>0.86</td>\n",
       "      <td>3.07</td>\n",
       "      <td>...</td>\n",
       "      <td>0.01</td>\n",
       "      <td>0.09</td>\n",
       "      <td>0.30</td>\n",
       "      <td>0.01</td>\n",
       "      <td>0.05</td>\n",
       "      <td>0.58</td>\n",
       "      <td>0.58</td>\n",
       "      <td>0.05</td>\n",
       "      <td>0.14</td>\n",
       "      <td>13.48</td>\n",
       "    </tr>\n",
       "  </tbody>\n",
       "</table>\n",
       "<p>5 rows × 272 columns</p>\n",
       "</div>"
      ],
      "text/plain": [
       "         Fallout New Vegas  Left 4 Dead 2  Path of Exile  Left 4 Dead  \\\n",
       "cluster                                                                 \n",
       "0                     3.03          12.85           0.54         3.09   \n",
       "1                    12.28          16.67           2.83         4.96   \n",
       "2                     0.86           5.11           1.47         1.84   \n",
       "3                     0.95           2.86           0.69         0.50   \n",
       "4                     2.09           5.81           0.59         0.33   \n",
       "\n",
       "         Team Fortress 2  Tomb Raider  Dead Island Epidemic  \\\n",
       "cluster                                                       \n",
       "0                   2.66         2.57                  0.33   \n",
       "1                   6.72         7.80                  1.04   \n",
       "2                   4.48         1.22                  0.81   \n",
       "3                   2.44         0.91                  0.26   \n",
       "4                  57.91         0.53                  0.31   \n",
       "\n",
       "         BioShock Infinite  Fallout 3 - Game of the Year Edition  \\\n",
       "cluster                                                            \n",
       "0                     1.56                                  0.00   \n",
       "1                    10.83                                  3.86   \n",
       "2                     0.60                                  0.34   \n",
       "3                     0.70                                  0.28   \n",
       "4                     1.57                                  0.86   \n",
       "\n",
       "         Grand Theft Auto IV  ...  Aura Kingdom  \\\n",
       "cluster                       ...                 \n",
       "0                       5.59  ...          0.00   \n",
       "1                       8.86  ...          0.59   \n",
       "2                       2.08  ...          0.36   \n",
       "3                       0.59  ...          0.16   \n",
       "4                       3.07  ...          0.01   \n",
       "\n",
       "         Tropico 3 - Steam Special Edition  Magic Duels  Ragnarok Online 2  \\\n",
       "cluster                                                                      \n",
       "0                                     0.55         0.28               0.00   \n",
       "1                                     1.26         0.49               0.19   \n",
       "2                                     0.01         0.27               0.01   \n",
       "3                                     0.06         0.22               0.09   \n",
       "4                                     0.09         0.30               0.01   \n",
       "\n",
       "         Fallen Earth  Starbound - Unstable  Dizzel  \\\n",
       "cluster                                               \n",
       "0                0.02                  0.00    0.00   \n",
       "1                0.03                  0.14    0.30   \n",
       "2                0.01                  0.27    0.01   \n",
       "3                0.11                  0.03    0.11   \n",
       "4                0.05                  0.58    0.58   \n",
       "\n",
       "         Patch testing for Chivalry  H1Z1 Test Server  User Stickness  \n",
       "cluster                                                                \n",
       "0                              0.08              0.00           16.78  \n",
       "1                              0.78              0.07           35.96  \n",
       "2                              0.30              0.03           12.14  \n",
       "3                              0.01              0.07            4.99  \n",
       "4                              0.05              0.14           13.48  \n",
       "\n",
       "[5 rows x 272 columns]"
      ]
     },
     "execution_count": 831,
     "metadata": {},
     "output_type": "execute_result"
    }
   ],
   "source": [
    "ubi_stats"
   ]
  },
  {
   "cell_type": "code",
   "execution_count": null,
   "metadata": {},
   "outputs": [],
   "source": []
  },
  {
   "cell_type": "markdown",
   "metadata": {},
   "source": [
    "### Cluster details (genre level)\n",
    "1. The top 3 mostly preferred genres\n",
    "2. User stickiness on the top 3 genres (sum of mean hours played scaled in `range(0,100)`"
   ]
  },
  {
   "cell_type": "code",
   "execution_count": 832,
   "metadata": {},
   "outputs": [],
   "source": [
    "game_category = pd.read_csv('game_category.csv',index_col='Game')\n",
    "gg_dict = game_category.to_dict()['Genre']"
   ]
  },
  {
   "cell_type": "code",
   "execution_count": 833,
   "metadata": {},
   "outputs": [],
   "source": [
    "new_ubi = userbyitem_mm.copy()\n",
    "new_ubi_cat = new_ubi.rename(columns=gg_dict)\n",
    "new_ubi_cat = new_ubi_cat.drop('cluster', axis = 1)\\\n",
    "               .groupby(new_ubi_cat.drop('cluster', axis = 1).columns.values, axis = 1).sum().round(2)\\\n",
    "               .join(userbyitem_mm['cluster'])"
   ]
  },
  {
   "cell_type": "code",
   "execution_count": 834,
   "metadata": {},
   "outputs": [
    {
     "data": {
      "text/html": [
       "<div>\n",
       "<style scoped>\n",
       "    .dataframe tbody tr th:only-of-type {\n",
       "        vertical-align: middle;\n",
       "    }\n",
       "\n",
       "    .dataframe tbody tr th {\n",
       "        vertical-align: top;\n",
       "    }\n",
       "\n",
       "    .dataframe thead th {\n",
       "        text-align: right;\n",
       "    }\n",
       "</style>\n",
       "<table border=\"1\" class=\"dataframe\">\n",
       "  <thead>\n",
       "    <tr style=\"text-align: right;\">\n",
       "      <th></th>\n",
       "      <th>Dominant Genre/Game</th>\n",
       "      <th>2nd Preferred</th>\n",
       "      <th>Might Also Play</th>\n",
       "      <th>User Stickness</th>\n",
       "      <th>Cluster Size</th>\n",
       "    </tr>\n",
       "    <tr>\n",
       "      <th>cluster</th>\n",
       "      <th></th>\n",
       "      <th></th>\n",
       "      <th></th>\n",
       "      <th></th>\n",
       "      <th></th>\n",
       "    </tr>\n",
       "  </thead>\n",
       "  <tbody>\n",
       "    <tr>\n",
       "      <th>1</th>\n",
       "      <td>Action</td>\n",
       "      <td>FPS</td>\n",
       "      <td>RPG</td>\n",
       "      <td>35.96</td>\n",
       "      <td>196</td>\n",
       "    </tr>\n",
       "    <tr>\n",
       "      <th>2</th>\n",
       "      <td>Action</td>\n",
       "      <td>FPS</td>\n",
       "      <td>Survival</td>\n",
       "      <td>12.14</td>\n",
       "      <td>149</td>\n",
       "    </tr>\n",
       "    <tr>\n",
       "      <th>3</th>\n",
       "      <td>Action</td>\n",
       "      <td>FPS</td>\n",
       "      <td>Survival</td>\n",
       "      <td>4.99</td>\n",
       "      <td>2037</td>\n",
       "    </tr>\n",
       "    <tr>\n",
       "      <th>4</th>\n",
       "      <td>Action</td>\n",
       "      <td>FPS</td>\n",
       "      <td>Survival</td>\n",
       "      <td>13.48</td>\n",
       "      <td>172</td>\n",
       "    </tr>\n",
       "    <tr>\n",
       "      <th>0</th>\n",
       "      <td>FPS</td>\n",
       "      <td>Action</td>\n",
       "      <td>Survival</td>\n",
       "      <td>16.78</td>\n",
       "      <td>109</td>\n",
       "    </tr>\n",
       "  </tbody>\n",
       "</table>\n",
       "</div>"
      ],
      "text/plain": [
       "        Dominant Genre/Game 2nd Preferred Might Also Play  User Stickness  \\\n",
       "cluster                                                                     \n",
       "1                    Action           FPS             RPG           35.96   \n",
       "2                    Action           FPS        Survival           12.14   \n",
       "3                    Action           FPS        Survival            4.99   \n",
       "4                    Action           FPS        Survival           13.48   \n",
       "0                       FPS        Action        Survival           16.78   \n",
       "\n",
       "         Cluster Size  \n",
       "cluster                \n",
       "1                 196  \n",
       "2                 149  \n",
       "3                2037  \n",
       "4                 172  \n",
       "0                 109  "
      ]
     },
     "execution_count": 834,
     "metadata": {},
     "output_type": "execute_result"
    }
   ],
   "source": [
    "genre_stats,genre_rank = explain_cluster(new_ubi_cat)\n",
    "genre_rank.sort_values(['Dominant Genre/Game', '2nd Preferred'])"
   ]
  },
  {
   "cell_type": "code",
   "execution_count": 835,
   "metadata": {},
   "outputs": [
    {
     "data": {
      "text/html": [
       "<div>\n",
       "<style scoped>\n",
       "    .dataframe tbody tr th:only-of-type {\n",
       "        vertical-align: middle;\n",
       "    }\n",
       "\n",
       "    .dataframe tbody tr th {\n",
       "        vertical-align: top;\n",
       "    }\n",
       "\n",
       "    .dataframe thead th {\n",
       "        text-align: right;\n",
       "    }\n",
       "</style>\n",
       "<table border=\"1\" class=\"dataframe\">\n",
       "  <thead>\n",
       "    <tr style=\"text-align: right;\">\n",
       "      <th></th>\n",
       "      <th>Action</th>\n",
       "      <th>Casual</th>\n",
       "      <th>Collectible Card Game</th>\n",
       "      <th>FPS</th>\n",
       "      <th>Free to Play</th>\n",
       "      <th>Puzzle</th>\n",
       "      <th>RPG</th>\n",
       "      <th>Sandbox</th>\n",
       "      <th>Simulation</th>\n",
       "      <th>Sports</th>\n",
       "      <th>Strategy</th>\n",
       "      <th>Survival</th>\n",
       "      <th>User Stickness</th>\n",
       "      <th>Tower Defence</th>\n",
       "    </tr>\n",
       "    <tr>\n",
       "      <th>cluster</th>\n",
       "      <th></th>\n",
       "      <th></th>\n",
       "      <th></th>\n",
       "      <th></th>\n",
       "      <th></th>\n",
       "      <th></th>\n",
       "      <th></th>\n",
       "      <th></th>\n",
       "      <th></th>\n",
       "      <th></th>\n",
       "      <th></th>\n",
       "      <th></th>\n",
       "      <th></th>\n",
       "      <th></th>\n",
       "    </tr>\n",
       "  </thead>\n",
       "  <tbody>\n",
       "    <tr>\n",
       "      <th>0</th>\n",
       "      <td>66.12</td>\n",
       "      <td>2.01</td>\n",
       "      <td>0.28</td>\n",
       "      <td>204.32</td>\n",
       "      <td>0.21</td>\n",
       "      <td>13.24</td>\n",
       "      <td>18.37</td>\n",
       "      <td>15.53</td>\n",
       "      <td>4.53</td>\n",
       "      <td>2.22</td>\n",
       "      <td>17.48</td>\n",
       "      <td>38.85</td>\n",
       "      <td>16.78</td>\n",
       "      <td>0.31</td>\n",
       "    </tr>\n",
       "    <tr>\n",
       "      <th>1</th>\n",
       "      <td>278.07</td>\n",
       "      <td>13.68</td>\n",
       "      <td>0.49</td>\n",
       "      <td>162.97</td>\n",
       "      <td>0.41</td>\n",
       "      <td>37.80</td>\n",
       "      <td>102.72</td>\n",
       "      <td>41.19</td>\n",
       "      <td>27.97</td>\n",
       "      <td>7.95</td>\n",
       "      <td>89.03</td>\n",
       "      <td>76.34</td>\n",
       "      <td>35.96</td>\n",
       "      <td>11.29</td>\n",
       "    </tr>\n",
       "    <tr>\n",
       "      <th>2</th>\n",
       "      <td>118.04</td>\n",
       "      <td>5.25</td>\n",
       "      <td>0.27</td>\n",
       "      <td>47.07</td>\n",
       "      <td>0.24</td>\n",
       "      <td>5.44</td>\n",
       "      <td>13.29</td>\n",
       "      <td>17.83</td>\n",
       "      <td>6.85</td>\n",
       "      <td>4.59</td>\n",
       "      <td>21.21</td>\n",
       "      <td>32.41</td>\n",
       "      <td>12.14</td>\n",
       "      <td>1.06</td>\n",
       "    </tr>\n",
       "    <tr>\n",
       "      <th>3</th>\n",
       "      <td>31.60</td>\n",
       "      <td>1.67</td>\n",
       "      <td>0.22</td>\n",
       "      <td>30.64</td>\n",
       "      <td>0.22</td>\n",
       "      <td>3.88</td>\n",
       "      <td>9.54</td>\n",
       "      <td>7.80</td>\n",
       "      <td>4.02</td>\n",
       "      <td>1.41</td>\n",
       "      <td>12.29</td>\n",
       "      <td>13.55</td>\n",
       "      <td>4.99</td>\n",
       "      <td>0.65</td>\n",
       "    </tr>\n",
       "    <tr>\n",
       "      <th>4</th>\n",
       "      <td>122.19</td>\n",
       "      <td>6.29</td>\n",
       "      <td>0.30</td>\n",
       "      <td>75.46</td>\n",
       "      <td>0.09</td>\n",
       "      <td>5.83</td>\n",
       "      <td>16.21</td>\n",
       "      <td>19.72</td>\n",
       "      <td>5.33</td>\n",
       "      <td>2.98</td>\n",
       "      <td>19.46</td>\n",
       "      <td>36.25</td>\n",
       "      <td>13.48</td>\n",
       "      <td>2.29</td>\n",
       "    </tr>\n",
       "  </tbody>\n",
       "</table>\n",
       "</div>"
      ],
      "text/plain": [
       "         Action  Casual  Collectible Card Game     FPS  Free to Play  Puzzle  \\\n",
       "cluster                                                                        \n",
       "0         66.12    2.01                   0.28  204.32          0.21   13.24   \n",
       "1        278.07   13.68                   0.49  162.97          0.41   37.80   \n",
       "2        118.04    5.25                   0.27   47.07          0.24    5.44   \n",
       "3         31.60    1.67                   0.22   30.64          0.22    3.88   \n",
       "4        122.19    6.29                   0.30   75.46          0.09    5.83   \n",
       "\n",
       "            RPG  Sandbox  Simulation  Sports  Strategy  Survival  \\\n",
       "cluster                                                            \n",
       "0         18.37    15.53        4.53    2.22     17.48     38.85   \n",
       "1        102.72    41.19       27.97    7.95     89.03     76.34   \n",
       "2         13.29    17.83        6.85    4.59     21.21     32.41   \n",
       "3          9.54     7.80        4.02    1.41     12.29     13.55   \n",
       "4         16.21    19.72        5.33    2.98     19.46     36.25   \n",
       "\n",
       "         User Stickness  Tower Defence  \n",
       "cluster                                 \n",
       "0                 16.78           0.31  \n",
       "1                 35.96          11.29  \n",
       "2                 12.14           1.06  \n",
       "3                  4.99           0.65  \n",
       "4                 13.48           2.29  "
      ]
     },
     "execution_count": 835,
     "metadata": {},
     "output_type": "execute_result"
    }
   ],
   "source": [
    "genre_stats"
   ]
  },
  {
   "cell_type": "code",
   "execution_count": null,
   "metadata": {},
   "outputs": [],
   "source": []
  },
  {
   "cell_type": "code",
   "execution_count": null,
   "metadata": {},
   "outputs": [],
   "source": []
  },
  {
   "cell_type": "code",
   "execution_count": null,
   "metadata": {},
   "outputs": [],
   "source": []
  }
 ],
 "metadata": {
  "kernelspec": {
   "display_name": "Python 3",
   "language": "python",
   "name": "python3"
  },
  "language_info": {
   "codemirror_mode": {
    "name": "ipython",
    "version": 3
   },
   "file_extension": ".py",
   "mimetype": "text/x-python",
   "name": "python",
   "nbconvert_exporter": "python",
   "pygments_lexer": "ipython3",
   "version": "3.7.6"
  }
 },
 "nbformat": 4,
 "nbformat_minor": 4
}
